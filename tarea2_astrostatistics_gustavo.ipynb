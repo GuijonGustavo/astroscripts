{
  "nbformat": 4,
  "nbformat_minor": 0,
  "metadata": {
    "colab": {
      "provenance": [],
      "authorship_tag": "ABX9TyPd6oX10suklMICXxv5sg6w",
      "include_colab_link": true
    },
    "kernelspec": {
      "name": "python3",
      "display_name": "Python 3"
    },
    "language_info": {
      "name": "python"
    }
  },
  "cells": [
    {
      "cell_type": "markdown",
      "metadata": {
        "id": "view-in-github",
        "colab_type": "text"
      },
      "source": [
        "<a href=\"https://colab.research.google.com/github/GuijonGustavo/astroscripts/blob/master/tarea2_astrostatistics_gustavo.ipynb\" target=\"_parent\"><img src=\"https://colab.research.google.com/assets/colab-badge.svg\" alt=\"Open In Colab\"/></a>"
      ]
    },
    {
      "cell_type": "markdown",
      "source": [
        "<H1>Statistics for Astronomers<H1>\n",
        "\n",
        "\n",
        "Homework #2\n",
        "\n",
        "Gustavo Magallanes Guijón\n",
        "\n",
        "\n",
        "\n",
        "\n",
        "---\n",
        "\n",
        "---\n",
        "---\n"
      ],
      "metadata": {
        "id": "jKJSBo1uCCsA"
      }
    },
    {
      "cell_type": "markdown",
      "source": [
        "1. Wyn has to estimate a physical quantity $U$ that is the sum of two other quantities X and Y, which she assumes to be independent of each other. Based on Rishi’s observations, Wyn knows that X and Y are normally-distributed and have means 33.5 and 2.5 and variances 10.2 and 0.09 respectively, and she also knows that the sum of two normally-distributed variables is also normally distributed.\n",
        "\n",
        "a) Write down the covariance matrix for X and Y."
      ],
      "metadata": {
        "id": "MiZ9zFM3B-ps"
      }
    },
    {
      "cell_type": "markdown",
      "source": [
        "The matrix covariance is:\n",
        "\n",
        "\\begin{equation*}\n",
        "C = \n",
        "\\begin{pmatrix}\n",
        " \\sigma_{X}^{2} & \\mathrm{COV}[X,Y] \\\\\n",
        "\\mathrm{COV}[X,Y] & \\sigma_{Y}^{2} \n",
        "\\end{pmatrix}\n",
        "\\end{equation*}\n",
        "\n",
        "Where,\n",
        "\n",
        "\\begin{equation*}\n",
        "\\mathrm{COV}[X,Y] = \\mathbb{E}([X - \\mathbb{E}[X]][Y - \\mathbb{E}[Y])\n",
        "\\end{equation*} \n",
        "\n",
        "Then,\n",
        "\n",
        "\\begin{equation*}\n",
        "C = \n",
        "\\begin{pmatrix}\n",
        " 10.2 & 0 \\\\\n",
        "0 & 0.09 \n",
        "\\end{pmatrix}\n",
        "\\end{equation*}\n",
        "\n",
        "---\n",
        "\n"
      ],
      "metadata": {
        "id": "4ZVtwMQXLMt0"
      }
    },
    {
      "cell_type": "markdown",
      "source": [
        "b) Using the properties of the expectation value and variance operators, compute the (population) mean and standard deviation of U."
      ],
      "metadata": {
        "id": "UxwFupUDQvPQ"
      }
    },
    {
      "cell_type": "markdown",
      "source": [
        "We know,\n",
        "\n",
        "\\begin{align}\n",
        "\\text{If } X \\sim \\mathcal{N}(\\mu_{1}, \\sigma_{1}^{2}) \\text{  and }Y \\sim \\mathcal{N}(\\mu_{2},\\sigma_{2}^{2}), \\text{  then }   X \\pm Y \\sim \\mathcal{N}(\\mu_{1} \\pm \\mu_{2},\\sigma_{1}^{2} + \\sigma_{2}^{2})\n",
        "\\end{align}\n",
        "\n",
        "Then\n",
        "\n",
        "\\begin{align}\n",
        "U \\sim  \\mathcal{N}(36,10.29)\n",
        "\\Rightarrow\n",
        "\\mu = 36, \\sigma = 3.2\n",
        "\\end{align}\n",
        "\n",
        "---\n"
      ],
      "metadata": {
        "id": "VW_Pc2isZtRR"
      }
    },
    {
      "cell_type": "markdown",
      "source": [
        "c) Let $Z$ be the standardised version of $U$. Compute the probability that a random draw of $Z$ has magnitude ≥ 2.5 (note that the sign could be positive OR negative!). What are\n",
        "the corresponding range of values that U can have for this to be true?"
      ],
      "metadata": {
        "id": "28S9NQ5meF0F"
      }
    },
    {
      "cell_type": "markdown",
      "source": [
        "Standardisation:\n",
        "\n",
        "\\begin{align}\n",
        "Z = \\frac{X- \\mu}{\\sigma} ⇒ Z \\sim  \\mathcal{N}(0,1)\n",
        "\\end{align}\n",
        "\n",
        "⇒\n",
        "\n",
        "\n",
        "\\begin{align}\n",
        "Z = \\frac{2.5 - 36}{3.2} = -10.46\n",
        "\\end{align}\n",
        "\n",
        "Then, \n",
        "\n",
        "\n",
        "\\begin{align}\n",
        "P(|Z| \\geq 2.5) = P(|Z| \\geq -10.46) = P(-10.46 \\leq Z \\leq 10.46) = P(|Z| \\leq 10.46)  \n",
        "\\end{align}"
      ],
      "metadata": {
        "id": "wwao0F_ggbAf"
      }
    },
    {
      "cell_type": "code",
      "execution_count": 54,
      "metadata": {
        "colab": {
          "base_uri": "https://localhost:8080/"
        },
        "id": "RDBg1maiB8QO",
        "outputId": "6d385c68-9544-4fe5-bbda-6871f14b07ee"
      },
      "outputs": [
        {
          "output_type": "stream",
          "name": "stdout",
          "text": [
            "1.00\n"
          ]
        }
      ],
      "source": [
        "from scipy.stats import norm\n",
        "print('%.2f' % (2*(norm.cdf(10.46)-.5))) "
      ]
    },
    {
      "cell_type": "markdown",
      "source": [
        "This means that the central probability is 100 % in the interval: ($\\mu$-10.46$\\sigma$, $\\mu$+10.46$\\sigma$) \n",
        "\n",
        "---\n"
      ],
      "metadata": {
        "id": "0Sc2cD1rW-Ft"
      }
    },
    {
      "cell_type": "markdown",
      "source": [
        "d) Compute the population mean of $U^2$"
      ],
      "metadata": {
        "id": "pIuUmAGPYH9Y"
      }
    },
    {
      "cell_type": "markdown",
      "source": [
        "Given hint: \n",
        "\n",
        "\\begin{align}\n",
        "Var[X] = \\mathbb{E}[X^2] - (\\mathbb{E}[X])^2\\\\\n",
        "\\mathbb{E}[X^2] = Var[X] + (\\mathbb{E}[X])^2\n",
        "\\end{align}\n",
        "\n",
        "This is,\n",
        "\n",
        "\\begin{align}\n",
        "\\mathbb{E}[X^2] = 10.29 + (36)^2\\\\\n",
        "\\mathbb{E}[X^2] = 1306.29\\\\\n",
        "\\mu^2 = 1306.29\n",
        "\\end{align}\n",
        "\n"
      ],
      "metadata": {
        "id": "8Ex0TdMsc6wu"
      }
    },
    {
      "cell_type": "markdown",
      "source": [
        "\n",
        "---\n",
        "\n",
        "---\n",
        "\n",
        "2. Sarah discovers that the quantities X and Y from the previous problem are not independent – she computes a Pearson correlation coefficient of -0.75 between these two variables. How does this information change the answers to part 1a and 1b of the previous question?\n",
        "\n"
      ],
      "metadata": {
        "id": "x1wDnP8qXppa"
      }
    },
    {
      "cell_type": "markdown",
      "source": [
        "If X y Y are dependients then:\n",
        "\n",
        "\n",
        "\\begin{align}\n",
        "\\mathrm{COV}[X,Y] = \\mathbb{E}([X - \\mathbb{E}[X]][Y - \\mathbb{E}[Y]) = 0.9581\n",
        "\\end{align}\n",
        "\n",
        "This result is > 0. This is that both deviations are in the same direction. And, if the Pearson, coefficient is -0.75, this means that the moderate negative correlelation, therefore the matrix of covariance change (1a). The matrix of covariance is now:\n",
        "\n",
        "\n",
        "\\begin{equation*}\n",
        "C = \n",
        "\\begin{pmatrix}\n",
        " 10.2 & 0.9581 \\\\\n",
        "0.9581 & 0.09 \n",
        "\\end{pmatrix}\n",
        "\\end{equation*}\n",
        "\n",
        "But, the result of 1b is the same:\n",
        "\n",
        "\n",
        "\\begin{align}\n",
        "U \\sim  \\mathcal{N}(36,10.29)\n",
        "\\end{align}\n",
        "\n",
        "\n",
        "---\n",
        "---\n",
        "\n"
      ],
      "metadata": {
        "id": "blZIAypHYA9j"
      }
    },
    {
      "cell_type": "markdown",
      "source": [
        "3. A large database contains 2 types of galaxies. The expectation value and variance of the ages of Type I and Type II galaxies are μ1 , V1 and μ2 , V2 respectively. The probability that a randomly selected galaxy is Type I is p.\n",
        "\n",
        "a) Let X be the random variable corresponding to the selection of a galaxy of a certain type. What distribution does X follow? What are E[X] and Var[X]?\n",
        "\n"
      ],
      "metadata": {
        "id": "7_1Omu5Ulk1L"
      }
    },
    {
      "cell_type": "markdown",
      "source": [
        "The distribution correspond to Bernoulli. \n",
        "\n",
        "Therefore,\n",
        "\n",
        "$\\mathbb{E}[X]$ = $p$,\n",
        "\n",
        "and \n",
        "\n",
        "Var[X] = $p(1-p)$ \n",
        "\n",
        "\n",
        "\n",
        "---\n",
        "\n"
      ],
      "metadata": {
        "id": "yCQLL6uNrAWS"
      }
    },
    {
      "cell_type": "markdown",
      "source": [
        "b) Let $Y_{1}$ and $Y_{2}$ be random variables corresponding to the galaxy age if a Type I or Type II galaxy is selected, respectively. the problem states that E[$Y_{1}$] = $\\mu_{1}$ , E[$Y_{2}$] = $\\mu_{2}$, Var[$Y_{1}$] = $V_{1}$, and Var[$Y_{2}$] = $V_{2}$. If Y is the random variable corresponding to the galaxy age irrespective of type, how is Y related to X, $Y_{1}$ , and $Y_{2}$?\n"
      ],
      "metadata": {
        "id": "iIzdDYhpsckK"
      }
    },
    {
      "cell_type": "markdown",
      "source": [
        "First, we see than X and Y are the same case. Then,\n",
        "\n",
        "\\begin{align}\n",
        "\\mathbb{E}[X] = \\mathbb{E}[Y] = p = \\mu\n",
        "\\end{align}\n",
        "\n",
        "And $Y$ is independent of $Y_{1}$ and $Y_{2}$. And $Y_{1}$ and $Y_{2}$ are complements, \n",
        "\n",
        "\\begin{align}\n",
        "\\mathbb{E}(X) = \\mathbb{E}[Y] = \\mathbb{E}[Y_{1}] + \\mathbb{E}[Y_{2}]\n",
        "\\end{align}\n",
        "\n",
        "Therefore,\n",
        "\n",
        "\\begin{align}\n",
        "\\mathbb{E}[X] = \\mathbb{E}[Y] = \\mu_{1} + \\mu_{2} = p = \\mu\n",
        "\\end{align}\n",
        "\n",
        "\n",
        "---\n",
        "\n",
        "\n"
      ],
      "metadata": {
        "id": "J3hUsiG_Paxt"
      }
    },
    {
      "cell_type": "markdown",
      "source": [
        "c) Compute $\\mu$ ≡ E[Y] and V ≡ Var[Y] in terms of $\\mu_{1}$, $\\mu_{2}$ , $V_{1}$, and $V_{2}$.\n",
        "Hint: if U and W are independent random variables, E[UW] = E[U]E[W]."
      ],
      "metadata": {
        "id": "mVAX3jrjSRKM"
      }
    },
    {
      "cell_type": "markdown",
      "source": [
        "Given $Y$ is independent of $Y_{1}$ and $Y_{2}$,\n",
        "\n",
        "\n",
        "\\begin{align}\n",
        "\\mathbb{E}[YY_{1}] = \\mathbb{E}[Y]\\mathbb{E}[Y_{1}] = p \\mu_{1}\n",
        "\\end{align}\n",
        "\n",
        "And,\n",
        "\n",
        "\\begin{align}\n",
        "\\mathbb{E}[YY_{2}] = \\mathbb{E}[Y]\\mathbb{E}[Y_{2}] = p \\mu_{2}\n",
        "\\end{align}\n",
        "\n",
        "⇒\n",
        "\\begin{align}\n",
        "\\mathbb{E}[YY_{1}] + \\mathbb{E}[YY_{2}] = \\mathbb{E}[Y]\\mathbb{E}[Y_{1}] + \\mathbb{E}[Y]\\mathbb{E}[Y_{2}] =  p \\mu_{1} + p \\mu_{2}\n",
        "\\end{align}\n",
        "\n",
        "⇒\n",
        "\n",
        "\\begin{align}\n",
        "\\mathbb{E}[Y]\\mathbb{E}[Y_{1}] + \\mathbb{E}[Y]\\mathbb{E}[Y_{2}] =  p \\mu_{1} + p \\mu_{2}\n",
        "\\end{align}\n",
        "\n",
        "\n",
        "⇒\n",
        "\n",
        "\\begin{align}\n",
        "p\\mathbb{E}[Y_{1}] + p\\mathbb{E}[Y_{2}] =  p \\mu_{1} + p \\mu_{2}\n",
        "\\end{align}\n",
        "\n",
        "⇒\n",
        "\n",
        "\\begin{align}\n",
        "\\mathbb{E}[Y_{1}] + \\mathbb{E}[Y_{2}] = \\mu_{1} + \\mu_{2}\n",
        "\\end{align}\n",
        "\n",
        "\n",
        "⇒\n",
        "\n",
        "\\begin{align}\n",
        "\\mathbb{E}[Y_{1} + Y_{2}] = \\mu_{1} + \\mu_{2}\n",
        "\\end{align}\n",
        "\n",
        "\n",
        "⇒\n",
        "\n",
        "\\begin{align}\n",
        "\\mathbb{E}[Y] = \\mu_{1} + \\mu_{2}\n",
        "\\end{align}\n",
        "\n",
        "\n",
        "⇒\n",
        "\n",
        "\\begin{align}\n",
        "\\mathbb{E}[Y] = \\mu\n",
        "\\end{align}\n",
        "\n",
        "\n",
        "Now Var[$Y$], \n",
        "\n",
        "Var[$Y$] = \n",
        "\\begin{align}\n",
        "Var[Y_{1}] = \\mathbb{E}[Y_{1}^2] - [\\mathbb{E}[Y_{1}]]^{2}\\\\\n",
        "Var[Y_{2}] = \\mathbb{E}[Y_{2}^2] - [\\mathbb{E}[Y_{2}]]^{2}\\\\\n",
        "\\end{align}\n",
        "\n",
        "Add,\n",
        "\n",
        "\\begin{align}\n",
        "Var[Y] = Var[Y_{1}] + Var[Y_{2}] \n",
        "\\end{align}\n",
        "\n",
        "Then,\n",
        "\n",
        "\\begin{align}\n",
        "Var[Y] =  \\mathbb{E}[Y_{1}^2] + \\mathbb{E}[Y_{2}^2] - [\\mathbb{E}[Y_{1}]]^{2} - [\\mathbb{E}[Y_{2}]]^{2}\\\\\n",
        "Var[Y] =  \\mathbb{E}[Y_{1}]\\mathbb{E}[Y_{1}] + \\mathbb{E}[Y_{2}]\\mathbb{E}[Y_{2}] - [\\mathbb{E}[Y_{1}]]^{2} - [\\mathbb{E}[Y_{2}]]^{2}\\\\\n",
        "\\end{align}\n",
        "\n",
        "Finally, \n",
        "\n",
        "Var[Y] = 0 = V"
      ],
      "metadata": {
        "id": "giLgvrsNYplx"
      }
    }
  ]
}